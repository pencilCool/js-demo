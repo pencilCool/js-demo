{
 "cells": [
  {
   "cell_type": "code",
   "execution_count": 12,
   "id": "4c23dcb7-8eed-4469-8e29-63cfbaf494bf",
   "metadata": {},
   "outputs": [],
   "source": [
    "var a = 34"
   ]
  },
  {
   "cell_type": "code",
   "execution_count": 13,
   "id": "f68f695d-8a74-46e1-bef9-bcb79c963458",
   "metadata": {},
   "outputs": [
    {
     "name": "stdout",
     "output_type": "stream",
     "text": [
      "34\n"
     ]
    }
   ],
   "source": [
    "console.log(a)\n",
    "\n",
    "\n"
   ]
  },
  {
   "cell_type": "code",
   "execution_count": null,
   "id": "2930a93f-39d4-4252-bb7c-7709fa464ac6",
   "metadata": {},
   "outputs": [],
   "source": []
  },
  {
   "cell_type": "code",
   "execution_count": null,
   "id": "c57d273b-426b-4349-b19e-5be95470d2d6",
   "metadata": {},
   "outputs": [],
   "source": []
  },
  {
   "cell_type": "code",
   "execution_count": null,
   "id": "a9bfaa83-1108-41a1-8397-d7c647a16ac0",
   "metadata": {},
   "outputs": [],
   "source": []
  }
 ],
 "metadata": {
  "kernelspec": {
   "display_name": "JavaScript (Node.js)",
   "language": "javascript",
   "name": "javascript"
  },
  "language_info": {
   "file_extension": ".js",
   "mimetype": "application/javascript",
   "name": "javascript",
   "version": "16.3.0"
  }
 },
 "nbformat": 4,
 "nbformat_minor": 5
}
